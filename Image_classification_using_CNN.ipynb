{
  "nbformat": 4,
  "nbformat_minor": 0,
  "metadata": {
    "colab": {
      "name": "Image classification using CNN.ipynb",
      "provenance": [],
      "collapsed_sections": [],
      "authorship_tag": "ABX9TyOHSzXXUJAnsa1yxqMVAIs3",
      "include_colab_link": true
    },
    "kernelspec": {
      "name": "python3",
      "display_name": "Python 3"
    },
    "language_info": {
      "name": "python"
    }
  },
  "cells": [
    {
      "cell_type": "markdown",
      "metadata": {
        "id": "view-in-github",
        "colab_type": "text"
      },
      "source": [
        "<a href=\"https://colab.research.google.com/github/swap-mitra/deep-learning/blob/main/Image_classification_using_CNN.ipynb\" target=\"_parent\"><img src=\"https://colab.research.google.com/assets/colab-badge.svg\" alt=\"Open In Colab\"/></a>"
      ]
    },
    {
      "cell_type": "markdown",
      "metadata": {
        "id": "lLNM67hPfpfQ"
      },
      "source": [
        "# Author : Swapnil Mitra\n",
        "\n",
        "### Dataset : https://www.cs.toronto.edu/~kriz/cifar.html"
      ]
    },
    {
      "cell_type": "markdown",
      "metadata": {
        "id": "2EhvW6oGf30t"
      },
      "source": [
        "# Import"
      ]
    },
    {
      "cell_type": "code",
      "metadata": {
        "id": "sco8G_dkfgMn"
      },
      "source": [
        "import tensorflow as tf\n",
        "from tensorflow.keras import datasets, layers, models\n",
        "import matplotlib.pyplot as plt\n",
        "import numpy as np\n",
        "\n",
        "from sklearn.metrics import confusion_matrix, classification_report\n",
        "\n",
        "%matplotlib inline"
      ],
      "execution_count": 22,
      "outputs": []
    },
    {
      "cell_type": "markdown",
      "metadata": {
        "id": "PdO7MIiwIAMD"
      },
      "source": [
        "# Getting the Data"
      ]
    },
    {
      "cell_type": "code",
      "metadata": {
        "colab": {
          "base_uri": "https://localhost:8080/"
        },
        "id": "hHhm7oBggONj",
        "outputId": "c288805e-89dd-44e1-9910-7c424ff1bae9"
      },
      "source": [
        "(X_train, y_train), (X_test, y_test) = datasets.cifar10.load_data()"
      ],
      "execution_count": 2,
      "outputs": [
        {
          "output_type": "stream",
          "text": [
            "Downloading data from https://www.cs.toronto.edu/~kriz/cifar-10-python.tar.gz\n",
            "170500096/170498071 [==============================] - 6s 0us/step\n"
          ],
          "name": "stdout"
        }
      ]
    },
    {
      "cell_type": "code",
      "metadata": {
        "id": "7DEg6c6WghtH",
        "colab": {
          "base_uri": "https://localhost:8080/"
        },
        "outputId": "19e35ad9-6a90-4cb9-bba1-6cd9bdc389be"
      },
      "source": [
        "X_train.shape"
      ],
      "execution_count": 3,
      "outputs": [
        {
          "output_type": "execute_result",
          "data": {
            "text/plain": [
              "(50000, 32, 32, 3)"
            ]
          },
          "metadata": {
            "tags": []
          },
          "execution_count": 3
        }
      ]
    },
    {
      "cell_type": "code",
      "metadata": {
        "colab": {
          "base_uri": "https://localhost:8080/"
        },
        "id": "tgt82LMEIUTp",
        "outputId": "3adec334-590f-481a-bc62-793a9fcc00b3"
      },
      "source": [
        "X_test.shape"
      ],
      "execution_count": 4,
      "outputs": [
        {
          "output_type": "execute_result",
          "data": {
            "text/plain": [
              "(10000, 32, 32, 3)"
            ]
          },
          "metadata": {
            "tags": []
          },
          "execution_count": 4
        }
      ]
    },
    {
      "cell_type": "markdown",
      "metadata": {
        "id": "aD4pmWpeIYlr"
      },
      "source": [
        "# Data Exploration"
      ]
    },
    {
      "cell_type": "code",
      "metadata": {
        "id": "vA_Dc3xYJucO"
      },
      "source": [
        "y_train = y_train.reshape(-1,)"
      ],
      "execution_count": 5,
      "outputs": []
    },
    {
      "cell_type": "code",
      "metadata": {
        "id": "NB2PvczHIz6s"
      },
      "source": [
        "classes = ['airplane', 'automobile', 'bird', 'cat', 'deer', 'dog', 'frog',\n",
        "           'horse', 'ship', 'truck']"
      ],
      "execution_count": 6,
      "outputs": []
    },
    {
      "cell_type": "code",
      "metadata": {
        "id": "R1P404DdIV4E"
      },
      "source": [
        "def plot_sample(X, y, index):\n",
        "  plt.figure(figsize=(15,2))\n",
        "  plt.imshow(X[index])\n",
        "  plt.xlabel(classes[y[index]])"
      ],
      "execution_count": 7,
      "outputs": []
    },
    {
      "cell_type": "code",
      "metadata": {
        "colab": {
          "base_uri": "https://localhost:8080/",
          "height": 173
        },
        "id": "dgvfMMyHJ7DE",
        "outputId": "651611e0-965a-4d0f-f275-ae8c4eb54cc1"
      },
      "source": [
        "plot_sample(X_train, y_train, 1)"
      ],
      "execution_count": 8,
      "outputs": [
        {
          "output_type": "display_data",
          "data": {
            "image/png": "[encoded data removed]",
            "text/plain": [
              "<Figure size 1080x144 with 1 Axes>"
            ]
          },
          "metadata": {
            "tags": [],
            "needs_background": "light"
          }
        }
      ]
    },
    {
      "cell_type": "code",
      "metadata": {
        "id": "MDvC6ibtKYrj"
      },
      "source": [
        "# Scaling\n",
        "\n",
        "X_train = X_train / 255\n",
        "X_test = X_test / 255"
      ],
      "execution_count": 9,
      "outputs": []
    },
    {
      "cell_type": "markdown",
      "metadata": {
        "id": "l7edUTkVtEj4"
      },
      "source": [
        "# Building the Model"
      ]
    },
    {
      "cell_type": "code",
      "metadata": {
        "id": "IBBCsCDQqfb6"
      },
      "source": [
        "cnn = models.Sequential([\n",
        "      #cnn\n",
        "      layers.Conv2D(filters=32, kernel_size=(3,3), activation='relu', \n",
        "                    input_shape=(32,32,3)),\n",
        "      layers.MaxPooling2D((2,2)),\n",
        "\n",
        "      layers.Conv2D(filters=64, kernel_size=(3,3), activation='relu', \n",
        "                    input_shape=(32,32,3)),\n",
        "      layers.MaxPooling2D((2,2)),\n",
        "      \n",
        "      #dense\n",
        "      layers.Flatten(),\n",
        "      layers.Dense(64, activation='relu'),\n",
        "      layers.Dense(10, activation='softmax')\n",
        "])"
      ],
      "execution_count": 10,
      "outputs": []
    },
    {
      "cell_type": "code",
      "metadata": {
        "id": "kzDjOL2ov912"
      },
      "source": [
        "cnn.compile(optimizer = 'adam',\n",
        "              loss = 'sparse_categorical_crossentropy',\n",
        "              metrics = ['accuracy']) "
      ],
      "execution_count": 12,
      "outputs": []
    },
    {
      "cell_type": "code",
      "metadata": {
        "colab": {
          "base_uri": "https://localhost:8080/"
        },
        "id": "UCsMqpqCwnRN",
        "outputId": "335672a9-a950-4313-f27d-a23cce086837"
      },
      "source": [
        "cnn.fit(X_train, y_train, epochs=10)"
      ],
      "execution_count": 13,
      "outputs": [
        {
          "output_type": "stream",
          "text": [
            "Epoch 1/10\n",
            "1563/1563 [==============================] - 63s 40ms/step - loss: 1.4278 - accuracy: 0.4841\n",
            "Epoch 2/10\n",
            "1563/1563 [==============================] - 62s 40ms/step - loss: 1.0830 - accuracy: 0.6218\n",
            "Epoch 3/10\n",
            "1563/1563 [==============================] - 62s 40ms/step - loss: 0.9604 - accuracy: 0.6657\n",
            "Epoch 4/10\n",
            "1563/1563 [==============================] - 63s 40ms/step - loss: 0.8766 - accuracy: 0.6967\n",
            "Epoch 5/10\n",
            "1563/1563 [==============================] - 63s 40ms/step - loss: 0.8100 - accuracy: 0.7185\n",
            "Epoch 6/10\n",
            "1563/1563 [==============================] - 63s 40ms/step - loss: 0.7566 - accuracy: 0.7363\n",
            "Epoch 7/10\n",
            "1563/1563 [==============================] - 62s 40ms/step - loss: 0.7057 - accuracy: 0.7561\n",
            "Epoch 8/10\n",
            "1563/1563 [==============================] - 62s 40ms/step - loss: 0.6664 - accuracy: 0.7698\n",
            "Epoch 9/10\n",
            "1563/1563 [==============================] - 62s 39ms/step - loss: 0.6217 - accuracy: 0.7833\n",
            "Epoch 10/10\n",
            "1563/1563 [==============================] - 62s 40ms/step - loss: 0.5797 - accuracy: 0.7965\n"
          ],
          "name": "stdout"
        },
        {
          "output_type": "execute_result",
          "data": {
            "text/plain": [
              "<tensorflow.python.keras.callbacks.History at 0x7f3e95e78690>"
            ]
          },
          "metadata": {
            "tags": []
          },
          "execution_count": 13
        }
      ]
    },
    {
      "cell_type": "code",
      "metadata": {
        "colab": {
          "base_uri": "https://localhost:8080/"
        },
        "id": "4wd_1mCqwxLA",
        "outputId": "53a7052e-ee2f-43a3-93b0-c5fbe7bd51d4"
      },
      "source": [
        "cnn.evaluate(X_test, y_test) "
      ],
      "execution_count": 14,
      "outputs": [
        {
          "output_type": "stream",
          "text": [
            "313/313 [==============================] - 4s 12ms/step - loss: 0.9299 - accuracy: 0.7030\n"
          ],
          "name": "stdout"
        },
        {
          "output_type": "execute_result",
          "data": {
            "text/plain": [
              "[0.9299445152282715, 0.703000009059906]"
            ]
          },
          "metadata": {
            "tags": []
          },
          "execution_count": 14
        }
      ]
    },
    {
      "cell_type": "markdown",
      "metadata": {
        "id": "UrIw5F9R1PXQ"
      },
      "source": [
        "# Prediction"
      ]
    },
    {
      "cell_type": "code",
      "metadata": {
        "colab": {
          "base_uri": "https://localhost:8080/"
        },
        "id": "IkTsHFOlzN1j",
        "outputId": "60f115c4-90c3-4ba4-e4c0-60ea86be09c1"
      },
      "source": [
        "y_pred = cnn.predict(X_test)\n",
        "y_pred[:5]"
      ],
      "execution_count": 15,
      "outputs": [
        {
          "output_type": "execute_result",
          "data": {
            "text/plain": [
              "array([[8.4394374e-04, 3.7081393e-06, 9.2098601e-03, 2.6364315e-01,\n",
              "        4.5554296e-04, 7.0507956e-01, 1.9471090e-02, 2.0534497e-04,\n",
              "        1.0413639e-03, 4.6413694e-05],\n",
              "       [8.8529130e-05, 1.4734826e-02, 5.0077284e-07, 7.0522460e-10,\n",
              "        1.5699952e-10, 7.4607098e-11, 2.2423641e-11, 2.0863322e-12,\n",
              "        9.8516625e-01, 9.9046565e-06],\n",
              "       [1.0690843e-02, 1.1159599e-02, 1.0976039e-03, 4.0340351e-04,\n",
              "        8.5569081e-05, 1.8687162e-05, 1.8096298e-05, 1.4680568e-05,\n",
              "        9.7606260e-01, 4.4890502e-04],\n",
              "       [8.6334258e-01, 1.1521135e-04, 6.8722740e-02, 1.2688595e-03,\n",
              "        5.6300091e-04, 5.5788246e-06, 6.5355066e-06, 5.8669255e-05,\n",
              "        6.5870896e-02, 4.5964203e-05],\n",
              "       [7.8269687e-07, 5.9492228e-04, 2.7364818e-03, 1.2302722e-03,\n",
              "        8.5004643e-02, 1.3390591e-04, 9.1029662e-01, 9.4993072e-07,\n",
              "        7.6571717e-07, 8.0572534e-07]], dtype=float32)"
            ]
          },
          "metadata": {
            "tags": []
          },
          "execution_count": 15
        }
      ]
    },
    {
      "cell_type": "code",
      "metadata": {
        "colab": {
          "base_uri": "https://localhost:8080/"
        },
        "id": "8oaMc3pw1abl",
        "outputId": "be9b0a12-b7f8-478a-8658-48f086dc3714"
      },
      "source": [
        "y_classes = [np.argmax(element) for element in y_pred] \n",
        "y_classes[:5]"
      ],
      "execution_count": 16,
      "outputs": [
        {
          "output_type": "execute_result",
          "data": {
            "text/plain": [
              "[5, 8, 8, 0, 6]"
            ]
          },
          "metadata": {
            "tags": []
          },
          "execution_count": 16
        }
      ]
    },
    {
      "cell_type": "code",
      "metadata": {
        "colab": {
          "base_uri": "https://localhost:8080/"
        },
        "id": "D95-vdUV1_VK",
        "outputId": "b507ca72-9c3b-4344-9135-70ca2054a05d"
      },
      "source": [
        "y_test = y_test.reshape(-1,)\n",
        "y_test[:5]"
      ],
      "execution_count": 18,
      "outputs": [
        {
          "output_type": "execute_result",
          "data": {
            "text/plain": [
              "array([3, 8, 8, 0, 6], dtype=uint8)"
            ]
          },
          "metadata": {
            "tags": []
          },
          "execution_count": 18
        }
      ]
    },
    {
      "cell_type": "code",
      "metadata": {
        "colab": {
          "base_uri": "https://localhost:8080/",
          "height": 173
        },
        "id": "l_AeVW7D2BSz",
        "outputId": "23b707c4-0afb-4692-c662-d668198756c6"
      },
      "source": [
        "plot_sample(X_test, y_test, 1)"
      ],
      "execution_count": 19,
      "outputs": [
        {
          "output_type": "display_data",
          "data": {
            "image/png": "[encoded data removed]",
            "text/plain": [
              "<Figure size 1080x144 with 1 Axes>"
            ]
          },
          "metadata": {
            "tags": [],
            "needs_background": "light"
          }
        }
      ]
    },
    {
      "cell_type": "code",
      "metadata": {
        "colab": {
          "base_uri": "https://localhost:8080/",
          "height": 35
        },
        "id": "M8ACjPzL3PJa",
        "outputId": "5916d56b-60de-4015-97b2-0b9492e954a8"
      },
      "source": [
        "classes[y_classes[1]]"
      ],
      "execution_count": 20,
      "outputs": [
        {
          "output_type": "execute_result",
          "data": {
            "application/vnd.google.colaboratory.intrinsic+json": {
              "type": "string"
            },
            "text/plain": [
              "'ship'"
            ]
          },
          "metadata": {
            "tags": []
          },
          "execution_count": 20
        }
      ]
    },
    {
      "cell_type": "code",
      "metadata": {
        "colab": {
          "base_uri": "https://localhost:8080/"
        },
        "id": "rmudRI-_3TLz",
        "outputId": "2a6105e1-279d-4f0f-cd16-1d8c1512c366"
      },
      "source": [
        "print('Classification Report: \\n', classification_report(y_test, y_classes))"
      ],
      "execution_count": 23,
      "outputs": [
        {
          "output_type": "stream",
          "text": [
            "Classification Report: \n",
            "               precision    recall  f1-score   support\n",
            "\n",
            "           0       0.74      0.71      0.72      1000\n",
            "           1       0.78      0.85      0.81      1000\n",
            "           2       0.58      0.63      0.61      1000\n",
            "           3       0.64      0.40      0.50      1000\n",
            "           4       0.60      0.70      0.65      1000\n",
            "           5       0.62      0.64      0.63      1000\n",
            "           6       0.77      0.80      0.78      1000\n",
            "           7       0.73      0.74      0.74      1000\n",
            "           8       0.74      0.85      0.79      1000\n",
            "           9       0.84      0.70      0.76      1000\n",
            "\n",
            "    accuracy                           0.70     10000\n",
            "   macro avg       0.70      0.70      0.70     10000\n",
            "weighted avg       0.70      0.70      0.70     10000\n",
            "\n"
          ],
          "name": "stdout"
        }
      ]
    },
    {
      "cell_type": "code",
      "metadata": {
        "id": "cy0NrytX3n_1"
      },
      "source": [
        ""
      ],
      "execution_count": null,
      "outputs": []
    }
  ]
}